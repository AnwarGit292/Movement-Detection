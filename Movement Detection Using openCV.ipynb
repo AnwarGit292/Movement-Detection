{
 "cells": [
  {
   "cell_type": "code",
   "execution_count": 1,
   "metadata": {},
   "outputs": [],
   "source": [
    "import cv2\n",
    "import numpy as np"
   ]
  },
  {
   "cell_type": "code",
   "execution_count": 2,
   "metadata": {},
   "outputs": [],
   "source": [
    "#created by Faisal (m8riix)"
   ]
  },
  {
   "cell_type": "code",
   "execution_count": null,
   "metadata": {},
   "outputs": [],
   "source": [
    "\n",
    "# pass 0 to read video from default webcam if available, 1 for external webcam\n",
    "cap = cv2.VideoCapture('cars.mp4')\n",
    "\n",
    "ret1, frame1 = cap.read()\n",
    "ret2, frame2 = cap.read()\n",
    "\n",
    "while True:\n",
    "    frame1_gray = cv2.cvtColor(frame1, cv2.COLOR_BGR2GRAY)\n",
    "    frame2_gray = cv2.cvtColor(frame2, cv2.COLOR_BGR2GRAY)\n",
    "    frame1_blur = cv2.GaussianBlur(frame1_gray, (21, 21), 0)\n",
    "    frame2_blur = cv2.GaussianBlur(frame2_gray, (21, 21), 0)\n",
    "\n",
    "    diff = cv2.absdiff(frame1_blur, frame2_blur)\n",
    "\n",
    "    thresh = cv2.threshold(diff, 20, 255, cv2.THRESH_BINARY)[1]\n",
    "    final = cv2.dilate(thresh, None, iterations=2)\n",
    "\n",
    "    masked = cv2.bitwise_and(frame1, frame1, mask=thresh)\n",
    "\n",
    "    # count the number of white pixels in thresholded image\n",
    "    white_pixels = np.sum(thresh) / 255\n",
    "\n",
    "    rows, cols = thresh.shape\n",
    "    total = rows * cols\n",
    "\n",
    "    if white_pixels > 0.01 * total:\n",
    "        font = cv2.FONT_HERSHEY_SIMPLEX\n",
    "        cv2.putText(frame1, 'Movement Detected', (10, 50), font, 1,\n",
    "                    (0, 0, 255), 2, cv2.LINE_AA)\n",
    "\n",
    "    cv2.imshow(\"Motion\", frame1)\n",
    "\n",
    "    frame1 = frame2\n",
    "    ret, frame2 = cap.read()\n",
    "\n",
    "    if not ret:\n",
    "        break\n",
    "\n",
    "    key = cv2.waitKey(10)\n",
    "    if key == ord('q'):\n",
    "        break\n",
    "\n",
    "\n",
    "cv2.destroyAllWindows()"
   ]
  }
 ],
 "metadata": {
  "kernelspec": {
   "display_name": "Python 3",
   "language": "python",
   "name": "python3"
  },
  "language_info": {
   "codemirror_mode": {
    "name": "ipython",
    "version": 3
   },
   "file_extension": ".py",
   "mimetype": "text/x-python",
   "name": "python",
   "nbconvert_exporter": "python",
   "pygments_lexer": "ipython3",
   "version": "3.7.3"
  }
 },
 "nbformat": 4,
 "nbformat_minor": 2
}
